{
 "cells": [
  {
   "cell_type": "code",
   "execution_count": 196,
   "metadata": {
    "collapsed": false,
    "deletable": true,
    "editable": true
   },
   "outputs": [
    {
     "data": {
      "text/html": [
       "<img src=\"https://datahack.analyticsvidhya.com/media/contest_cover/loanpre_banner.jpg\"/>"
      ],
      "text/plain": [
       "<IPython.core.display.Image object>"
      ]
     },
     "execution_count": 196,
     "metadata": {},
     "output_type": "execute_result"
    }
   ],
   "source": [
    "from IPython.display import Image\n",
    "from IPython.core.display import HTML \n",
    "Image(url= \"https://datahack.analyticsvidhya.com/media/contest_cover/loanpre_banner.jpg\")"
   ]
  },
  {
   "cell_type": "markdown",
   "metadata": {
    "deletable": true,
    "editable": true
   },
   "source": [
    "# Problem Statement"
   ]
  },
  {
   "cell_type": "raw",
   "metadata": {
    "deletable": true,
    "editable": true
   },
   "source": [
    "Dream Housing Finance company deals in all home loans. They have presence across all urban, semi urban and rural areas. Customer first apply for home loan after that company validates the customer eligibility for loan."
   ]
  },
  {
   "cell_type": "markdown",
   "metadata": {
    "deletable": true,
    "editable": true
   },
   "source": [
    "\n",
    "### Problem"
   ]
  },
  {
   "cell_type": "raw",
   "metadata": {
    "deletable": true,
    "editable": true
   },
   "source": [
    "Company wants to automate the loan eligibility process (real time) based on customer detail provided while filling online application form. These details are Gender, Marital Status, Education, Number of Dependents, Income, Loan Amount, Credit History and others. To automate this process, they have given a problem to identify the customers segments, those are eligible for loan amount so that they can specifically target these customers. Here they have provided a partial data set."
   ]
  },
  {
   "cell_type": "markdown",
   "metadata": {
    "deletable": true,
    "editable": true
   },
   "source": [
    "\n",
    "### Data"
   ]
  },
  {
   "cell_type": "markdown",
   "metadata": {
    "deletable": true,
    "editable": true
   },
   "source": [
    "Variable :: Description \n",
    "Loan_ID :: Unique Loan ID\n",
    "Gender :: Male/ Female\n",
    "Married :: Applicant married (Y/N)\n",
    "Dependents :: Number of dependents\n",
    "Education :: Applicant Education (Graduate/ Under Graduate)\n",
    "Self_Employed :: Self employed (Y/N) \n",
    "ApplicantIncome :: Applicant income \n",
    "CoapplicantIncome :: Coapplicant income\n",
    "LoanAmount :: Loan amount in thousands\n",
    "Loan_Amount_Term :: Term of loan in months\n",
    "Credit_History :: credit history meets guidelines\n",
    "Property_Area :: Urban/ Semi Urban/ Rural\n",
    "Loan_Status :: Loan approved (Y/N)"
   ]
  },
  {
   "cell_type": "code",
   "execution_count": 197,
   "metadata": {
    "collapsed": false,
    "deletable": true,
    "editable": true
   },
   "outputs": [],
   "source": [
    "\n",
    "#Roadmap: \n",
    "# What is data about, Summary of Data (EDA), Visualization,\n",
    "#  Preprocessing: Missing values, Transformations, Dummy variables\n",
    "\n",
    "# Classification  : Decision Tree, Logistic regression, Random Forest, Gradient Bosing methods, Adaboost,\n",
    "#Voting classifier Method\n",
    "\n",
    "# evalaute the model: Accuracy "
   ]
  },
  {
   "cell_type": "code",
   "execution_count": 198,
   "metadata": {
    "collapsed": false,
    "deletable": true,
    "editable": true
   },
   "outputs": [],
   "source": [
    "# Data Analysis & Viualization\n",
    "import pandas as pd\n",
    "import numpy as np\n",
    "import matplotlib.pyplot as plt\n",
    "import seaborn as sns\n",
    "import itertools\n",
    "\n",
    "#Evaluation\n",
    "from sklearn.metrics import roc_auc_score,accuracy_score\n",
    "from sklearn.cross_validation import StratifiedKFold, cross_val_score, LeaveOneOut, train_test_split\n",
    "\n",
    "# Building the models\n",
    "from sklearn.linear_model import LogisticRegression\n",
    "from sklearn.ensemble import RandomForestClassifier, GradientBoostingClassifier, ExtraTreesClassifier\n",
    "from sklearn.preprocessing import LabelEncoder\n",
    "%matplotlib inline\n",
    "\n",
    "# Warnings\n",
    "import warnings\n",
    "warnings.filterwarnings('ignore')\n"
   ]
  },
  {
   "cell_type": "code",
   "execution_count": 199,
   "metadata": {
    "collapsed": false,
    "deletable": true,
    "editable": true
   },
   "outputs": [],
   "source": [
    "load_train = pd.read_csv('train_mod.csv',index_col= 'Loan_ID')\n",
    "load_test = pd.read_csv('test_mod.csv',index_col= 'Loan_ID')\n",
    "#d = {'Y' : 1, 'N' : 0}\n",
    "#load_train['Loan_Status'] = load_train['Loan_Status'].map(d)\n",
    "#load_train.head()\n",
    "#load_train.info()\n",
    "#load_train.Gender.value_counts()\n",
    "#load_train.isnull().sum()\n",
    "#load_train.head()\n",
    "load_train['Gender']=(load_train.Gender=='Female')*1\n",
    "load_test['Gender']=(load_test.Gender=='Female')*1\n",
    "\n",
    "load_train['Married']=(load_train.Married=='No')*1\n",
    "load_test['Married']=(load_test.Married=='No')*1\n",
    "\n",
    "load_train['Self_Employed']=(load_train.Self_Employed=='Yes')*1\n",
    "load_test['Self_Employed']=(load_test.Self_Employed=='Yes')*1\n",
    "\n",
    "education_map={'Graduate': 1, 'Not Graduate' : 2}\n",
    "load_train['Education'] = load_train.Education.map(education_map)\n",
    "load_test['Education'] = load_test.Education.map(education_map)\n",
    "\n",
    "property_area_mapping = {'Urban': 1, 'Rural': 2, 'Semiurban': 3}\n",
    "load_train['Property_Area'] = load_train.Property_Area.map(property_area_mapping)\n",
    "load_test['Property_Area'] = load_test.Property_Area.map(property_area_mapping)\n",
    "\n",
    "load_train['Property_Area']=load_train.Property_Area.fillna(1)\n",
    "load_test['Property_Area']=load_test.Property_Area.fillna(1)\n",
    "\n",
    "load_train['LoanAmount']=(load_train.LoanAmount.fillna(load_train.LoanAmount.mean()))\n",
    "load_test['LoanAmount']=(load_test.LoanAmount.fillna(load_test.LoanAmount.mean()))\n",
    "load_train['Loan_Amount_Term']=(load_train.Loan_Amount_Term.fillna(load_train.Loan_Amount_Term.mean()))\n",
    "load_test['Loan_Amount_Term']=(load_test.Loan_Amount_Term.fillna(load_test.Loan_Amount_Term.mean()))\n",
    "load_train['Credit_History']=load_train.Credit_History.fillna(1)\n",
    "load_test['Credit_History']=load_test.Credit_History.fillna(1)\n",
    "load_train['CoapplicantIncome'] = np.log10(load_train.CoapplicantIncome + 1)\n",
    "load_test['CoapplicantIncome'] = np.log10(load_test.CoapplicantIncome + 1)\n",
    "load_train['LoanAmount'] = np.log10(load_train.LoanAmount + 1)\n",
    "load_test['LoanAmount'] = np.log10(load_test.LoanAmount + 1)\n",
    "load_train['Loan_Amount_Term'] = np.log10(load_train.Loan_Amount_Term + 1)\n",
    "load_test['Loan_Amount_Term'] = np.log10(load_test.Loan_Amount_Term + 1)\n",
    "\n",
    "#sns.barplot(x='Gender',y='Loan_Status',data=load_train)\n",
    "#load_train.describe()"
   ]
  },
  {
   "cell_type": "code",
   "execution_count": 200,
   "metadata": {
    "collapsed": false,
    "deletable": true,
    "editable": true
   },
   "outputs": [],
   "source": [
    "load_train['Sum_total']=load_train['CoapplicantIncome']+load_train['ApplicantIncome']\n",
    "load_train['Ratio']=load_train['LoanAmount']/load_train['Sum_total']\n",
    "load_test['Sum_total']=load_test['CoapplicantIncome']+load_test['ApplicantIncome']\n",
    "load_test['Ratio']=load_test['LoanAmount']/load_test['Sum_total']\n",
    "load_train['EMI']=load_train['LoanAmount']/load_train['Loan_Amount_Term']\n",
    "load_test['EMI']=load_test['LoanAmount']/load_test['Loan_Amount_Term']"
   ]
  },
  {
   "cell_type": "markdown",
   "metadata": {
    "deletable": true,
    "editable": true
   },
   "source": [
    "# Modelling"
   ]
  },
  {
   "cell_type": "code",
   "execution_count": 201,
   "metadata": {
    "collapsed": false,
    "deletable": true,
    "editable": true
   },
   "outputs": [],
   "source": [
    "features = load_train.columns.drop(['Dependents','Loan_Status'])\n",
    "train_target = load_train.Loan_Status\n",
    "load_train = load_train[features]\n",
    "load_test = load_test[features]\n",
    "X_train, X_test,y_train,y_test = train_test_split(load_train,train_target, test_size=0.2, random_state = 0)\n",
    "X_train.shape, X_test.shape\n",
    "from sklearn.preprocessing import StandardScaler\n",
    "stdsc = StandardScaler()\n",
    "X_train_std = stdsc.fit_transform(X_train)\n",
    "X_test_std = stdsc.fit_transform(X_test)\n",
    "#X_test.head()\n",
    "#X_test_std\n",
    "#load_train.head()model = Sequential()\n",
    "#model.add(Dense(8,input_shape=(13,),kernel_initializer='normal',activation='relu'))\n",
    "#model.add(Dense(1,activation='sigmoid'))\n",
    "#model.compile(loss='binary_crossentropy', optimizer='adam', metrics=['accuracy'])          \n",
    "#model.summary()\n",
    "#X_train, X_val,y_train,y_val = train_test_split(load_train,train_target, test_size=0.2, random_state = 0)\n",
    "#scaler = StandardScaler()\n",
    "#model.fit(scaler.fit_transform(X_train.values), y_train,batch_size=16,epochs=25)"
   ]
  },
  {
   "cell_type": "markdown",
   "metadata": {
    "deletable": true,
    "editable": true
   },
   "source": [
    "### Random forest"
   ]
  },
  {
   "cell_type": "code",
   "execution_count": 202,
   "metadata": {
    "collapsed": false,
    "deletable": true,
    "editable": true
   },
   "outputs": [],
   "source": [
    "forest = RandomForestClassifier(n_estimators = 700,n_jobs=-1,criterion = 'entropy')\n",
    "forest.fit(X_train,y_train)\n",
    "predictions_forest = forest.predict(X_test)\n",
    "#predictions_forest"
   ]
  },
  {
   "cell_type": "code",
   "execution_count": 203,
   "metadata": {
    "collapsed": true,
    "deletable": true,
    "editable": true
   },
   "outputs": [],
   "source": [
    "forest = RandomForestClassifier(n_estimators = 700,n_jobs=-1,criterion = 'gini')\n",
    "forest.fit(X_train,y_train)\n",
    "predictions_forest = forest.predict(X_test)"
   ]
  },
  {
   "cell_type": "markdown",
   "metadata": {
    "deletable": true,
    "editable": true
   },
   "source": [
    "### Decision Tree Classifier using Adaboost"
   ]
  },
  {
   "cell_type": "code",
   "execution_count": 204,
   "metadata": {
    "collapsed": true,
    "deletable": true,
    "editable": true
   },
   "outputs": [],
   "source": [
    "from sklearn.ensemble import AdaBoostClassifier\n",
    "from sklearn.tree import DecisionTreeClassifier\n",
    "tree = DecisionTreeClassifier(criterion = 'entropy',max_depth=2)\n",
    "ada= AdaBoostClassifier(base_estimator=tree,n_estimators=500,learning_rate=0.1,random_state= 42)\n"
   ]
  },
  {
   "cell_type": "code",
   "execution_count": 205,
   "metadata": {
    "collapsed": true,
    "deletable": true,
    "editable": true
   },
   "outputs": [],
   "source": [
    "from sklearn.ensemble import VotingClassifier"
   ]
  },
  {
   "cell_type": "code",
   "execution_count": 206,
   "metadata": {
    "collapsed": true,
    "deletable": true,
    "editable": true
   },
   "outputs": [],
   "source": [
    "eclf = VotingClassifier(estimators=[('forest',forest),('adaboost',ada)],voting='hard')"
   ]
  },
  {
   "cell_type": "code",
   "execution_count": 207,
   "metadata": {
    "collapsed": false,
    "deletable": true,
    "editable": true
   },
   "outputs": [
    {
     "data": {
      "text/plain": [
       "VotingClassifier(estimators=[('forest', RandomForestClassifier(bootstrap=True, class_weight=None, criterion='gini',\n",
       "            max_depth=None, max_features='auto', max_leaf_nodes=None,\n",
       "            min_impurity_split=1e-07, min_samples_leaf=1,\n",
       "            min_samples_split=2, min_weight_fraction_leaf=0.0,\n",
       "          ...ndom_state=None, splitter='best'),\n",
       "          learning_rate=0.1, n_estimators=500, random_state=42))],\n",
       "         n_jobs=1, voting='hard', weights=None)"
      ]
     },
     "execution_count": 207,
     "metadata": {},
     "output_type": "execute_result"
    }
   ],
   "source": [
    "eclf.fit(X_train,y_train)"
   ]
  },
  {
   "cell_type": "code",
   "execution_count": 208,
   "metadata": {
    "collapsed": false,
    "deletable": true,
    "editable": true
   },
   "outputs": [],
   "source": [
    "y_test_pred = eclf.predict(X_test)\n",
    "#y_test_pred"
   ]
  },
  {
   "cell_type": "markdown",
   "metadata": {
    "deletable": true,
    "editable": true
   },
   "source": [
    "### Logistic regression"
   ]
  },
  {
   "cell_type": "code",
   "execution_count": 209,
   "metadata": {
    "collapsed": false,
    "deletable": true,
    "editable": true
   },
   "outputs": [
    {
     "data": {
      "text/plain": [
       "array([  0.00000000e+00,  -4.82370815e-02,  -3.41730953e-02,\n",
       "         0.00000000e+00,   0.00000000e+00,   0.00000000e+00,\n",
       "        -1.16787714e-04,   0.00000000e+00,   1.19014109e+00,\n",
       "         7.79351485e-02,   0.00000000e+00,  -6.04920980e-02,\n",
       "         0.00000000e+00])"
      ]
     },
     "execution_count": 209,
     "metadata": {},
     "output_type": "execute_result"
    }
   ],
   "source": [
    "from sklearn.linear_model import LogisticRegression\n",
    "lr=LogisticRegression(penalty='l1',C=0.1)\n",
    "lr.fit(X_train_std,y_train)\n",
    "'Training accuracy:', lr.score(X_train_std,y_train)\n",
    "'Test Accuracy:', lr.score(X_test_std,y_test)\n",
    "lr.intercept_\n",
    "lr.coef_[0]"
   ]
  },
  {
   "cell_type": "code",
   "execution_count": 210,
   "metadata": {
    "collapsed": true,
    "deletable": true,
    "editable": true
   },
   "outputs": [],
   "source": [
    "from sklearn.base import clone\n",
    "from itertools import combinations\n",
    "import numpy as np\n",
    "from sklearn.cross_validation import train_test_split\n",
    "from sklearn.metrics import accuracy_score\n",
    "\n",
    "class SBS():\n",
    "    def __init__(self, estimator, k_features, scoring=accuracy_score,\n",
    "                 test_size=0.25, random_state=1):\n",
    "        self.scoring = scoring\n",
    "        self.estimator = clone(estimator)\n",
    "        self.k_features = k_features\n",
    "        self.test_size = test_size\n",
    "        self.random_state = random_state\n",
    "\n",
    "    def fit(self, X, y):\n",
    "        \n",
    "        X_train, X_test, y_train, y_test = \\\n",
    "                train_test_split(X, y, test_size=self.test_size, \n",
    "                                 random_state=self.random_state)\n",
    "\n",
    "        dim = X_train.shape[1]\n",
    "        self.indices_ = tuple(range(dim))\n",
    "        self.subsets_ = [self.indices_]\n",
    "        score = self._calc_score(X_train, y_train, \n",
    "                                 X_test, y_test, self.indices_)\n",
    "        self.scores_ = [score]\n",
    "\n",
    "        while dim > self.k_features:\n",
    "            scores = []\n",
    "            subsets = []\n",
    "\n",
    "            for p in combinations(self.indices_, r=dim-1):\n",
    "                score = self._calc_score(X_train, y_train, \n",
    "                                         X_test, y_test, p)\n",
    "                scores.append(score)\n",
    "                subsets.append(p)\n",
    "\n",
    "            best = np.argmax(scores)\n",
    "            self.indices_ = subsets[best]\n",
    "            self.subsets_.append(self.indices_)\n",
    "            dim -= 1\n",
    "\n",
    "            self.scores_.append(scores[best])\n",
    "        self.k_score_ = self.scores_[-1]\n",
    "\n",
    "        return self\n",
    "\n",
    "    def transform(self, X):\n",
    "        return X[:, self.indices_]\n",
    "\n",
    "    def _calc_score(self, X_train, y_train, X_test, y_test, indices):\n",
    "        self.estimator.fit(X_train[:, indices], y_train)\n",
    "        y_pred = self.estimator.predict(X_test[:, indices])\n",
    "        score = self.scoring(y_test, y_pred)\n",
    "        return score"
   ]
  },
  {
   "cell_type": "code",
   "execution_count": 211,
   "metadata": {
    "collapsed": false,
    "deletable": true,
    "editable": true
   },
   "outputs": [
    {
     "data": {
      "image/png": "[encoded data removed]",
      "text/plain": [
       "<matplotlib.figure.Figure at 0x7fc3432b6450>"
      ]
     },
     "metadata": {},
     "output_type": "display_data"
    }
   ],
   "source": [
    "from sklearn.neighbors import KNeighborsClassifier\n",
    "from sklearn.ensemble import GradientBoostingClassifier\n",
    "\n",
    "gbc = GradientBoostingClassifier()\n",
    "\n",
    "# selecting features\n",
    "sbs = SBS(gbc, k_features=1)\n",
    "sbs.fit(X_train_std, y_train)\n",
    "\n",
    "# plotting performance of feature subsets\n",
    "k_feat = [len(k) for k in sbs.subsets_]\n",
    "\n",
    "plt.plot(k_feat, sbs.scores_, marker='o')\n",
    "plt.ylim([0.4, 1.0])\n",
    "plt.ylabel('Accuracy')\n",
    "plt.xlabel('Number of features')\n",
    "plt.show();"
   ]
  },
  {
   "cell_type": "code",
   "execution_count": 212,
   "metadata": {
    "collapsed": false,
    "deletable": true,
    "editable": true
   },
   "outputs": [
    {
     "name": "stdout",
     "output_type": "stream",
     "text": [
      "Index([u'Gender', u'Education', u'Self_Employed', u'CoapplicantIncome',\n",
      "       u'Loan_Amount_Term', u'Credit_History', u'Property_Area', u'Ratio'],\n",
      "      dtype='object')\n"
     ]
    }
   ],
   "source": [
    "k2 = list(sbs.subsets_[5])\n",
    "print load_train.columns[k2]\n"
   ]
  },
  {
   "cell_type": "code",
   "execution_count": 213,
   "metadata": {
    "collapsed": false,
    "deletable": true,
    "editable": true
   },
   "outputs": [
    {
     "name": "stdout",
     "output_type": "stream",
     "text": [
      "('Training accuracy:', 0.81466395112016299)\n",
      "('Test accuracy:', 0.80487804878048785)\n"
     ]
    }
   ],
   "source": [
    "\n",
    "knn=KNeighborsClassifier()\n",
    "knn.fit(X_train_std, y_train)\n",
    "print('Training accuracy:', knn.score(X_train_std, y_train))\n",
    "print('Test accuracy:', knn.score(X_test_std, y_test))"
   ]
  },
  {
   "cell_type": "code",
   "execution_count": 214,
   "metadata": {
    "collapsed": false,
    "deletable": true,
    "editable": true
   },
   "outputs": [
    {
     "name": "stdout",
     "output_type": "stream",
     "text": [
      "('Training accuracy:', 0.88187372708757639)\n",
      "('Test accuracy:', 0.76422764227642281)\n"
     ]
    }
   ],
   "source": [
    "gbc.fit(X_train_std[:, k2], y_train)\n",
    "print('Training accuracy:', gbc.score(X_train_std[:, k2], y_train))\n",
    "print('Test accuracy:', gbc.score(X_test_std[:, k2], y_test))"
   ]
  },
  {
   "cell_type": "code",
   "execution_count": 215,
   "metadata": {
    "collapsed": false,
    "deletable": true,
    "editable": true
   },
   "outputs": [
    {
     "name": "stdout",
     "output_type": "stream",
     "text": [
      " 1) Credit_History                 0.245105\n",
      " 2) Ratio                          0.114926\n",
      " 3) Sum_total                      0.110988\n",
      " 4) EMI                            0.109378\n",
      " 5) ApplicantIncome                0.107942\n",
      " 6) LoanAmount                     0.105139\n",
      " 7) CoapplicantIncome              0.075834\n",
      " 8) Property_Area                  0.038705\n",
      " 9) Loan_Amount_Term               0.027296\n",
      "10) Married                        0.019831\n",
      "11) Education                      0.019045\n",
      "12) Self_Employed                  0.013483\n",
      "13) Gender                         0.012327\n"
     ]
    },
    {
     "data": {
      "image/png": "[encoded data removed]",
      "text/plain": [
       "<matplotlib.figure.Figure at 0x7fc3436095d0>"
      ]
     },
     "metadata": {},
     "output_type": "display_data"
    }
   ],
   "source": [
    "from sklearn.ensemble import RandomForestClassifier\n",
    "\n",
    "feat_labels = load_train.columns\n",
    "\n",
    "forest = RandomForestClassifier(n_estimators=500,\n",
    "                                random_state=0,\n",
    "                                n_jobs=-1)\n",
    "\n",
    "forest.fit(X_train, y_train)\n",
    "importances = forest.feature_importances_\n",
    "\n",
    "indices = np.argsort(importances)[::-1]\n",
    "\n",
    "for f in range(X_train.shape[1]):\n",
    "    print(\"%2d) %-*s %f\" % (f + 1, 30, \n",
    "                            feat_labels[indices[f]], \n",
    "                            importances[indices[f]]))\n",
    "\n",
    "plt.title('Feature Importances')\n",
    "plt.bar(range(X_train.shape[1]), \n",
    "        importances[indices],\n",
    "        color='lightblue', \n",
    "        align='center')\n",
    "\n",
    "plt.xticks(range(X_train.shape[1]), \n",
    "           feat_labels[indices], rotation=90)\n",
    "plt.xlim([-1, X_train.shape[1]])\n",
    "plt.tight_layout()\n",
    "plt.show()"
   ]
  },
  {
   "cell_type": "code",
   "execution_count": 216,
   "metadata": {
    "collapsed": false,
    "deletable": true,
    "editable": true
   },
   "outputs": [
    {
     "name": "stdout",
     "output_type": "stream",
     "text": [
      "('Training accuracy:', 0.8044806517311609)\n",
      "('Test accuracy:', 0.82926829268292679)\n"
     ]
    }
   ],
   "source": [
    "feat = ['Credit_History', 'ApplicantIncome', 'LoanAmount', 'CoapplicantIncome']\n",
    "\n",
    "forest = RandomForestClassifier(n_estimators=500, n_jobs=-1, criterion='entropy', min_samples_leaf=5, min_weight_fraction_leaf=.1)\n",
    "forest.fit(X_train[feat], y_train)\n",
    "\n",
    "print('Training accuracy:', forest.score(X_train[feat], y_train))\n",
    "print('Test accuracy:', forest.score(X_test[feat], y_test))"
   ]
  },
  {
   "cell_type": "code",
   "execution_count": 217,
   "metadata": {
    "collapsed": false,
    "deletable": true,
    "editable": true
   },
   "outputs": [
    {
     "data": {
      "text/plain": [
       "('Training accuracy:', 0.8044806517311609)"
      ]
     },
     "execution_count": 217,
     "metadata": {},
     "output_type": "execute_result"
    }
   ],
   "source": [
    "feat = ['Credit_History', 'ApplicantIncome', 'LoanAmount', 'CoapplicantIncome']\n",
    "\n",
    "forest = RandomForestClassifier(n_estimators=500, n_jobs=-1, criterion='entropy', min_samples_leaf=5, min_weight_fraction_leaf=.1)\n",
    "forest.fit(X_train[feat], y_train)\n",
    "\n",
    "'Training accuracy:', forest.score(X_train[feat], y_train)\n"
   ]
  },
  {
   "cell_type": "code",
   "execution_count": 218,
   "metadata": {
    "collapsed": false,
    "deletable": true,
    "editable": true
   },
   "outputs": [
    {
     "name": "stdout",
     "output_type": "stream",
     "text": [
      " 1) Credit_History                 0.245105\n",
      " 2) Ratio                          0.114926\n",
      " 3) Sum_total                      0.110988\n",
      " 4) EMI                            0.109378\n",
      " 5) ApplicantIncome                0.107942\n",
      " 6) LoanAmount                     0.105139\n",
      " 7) CoapplicantIncome              0.075834\n",
      " 8) Property_Area                  0.038705\n",
      " 9) Loan_Amount_Term               0.027296\n",
      "10) Married                        0.019831\n",
      "11) Education                      0.019045\n",
      "12) Self_Employed                  0.013483\n",
      "13) Gender                         0.012327\n"
     ]
    },
    {
     "data": {
      "image/png": "[encoded data removed]",
      "text/plain": [
       "<matplotlib.figure.Figure at 0x7fc3432d6a50>"
      ]
     },
     "metadata": {},
     "output_type": "display_data"
    }
   ],
   "source": [
    "from sklearn.ensemble import RandomForestClassifier\n",
    "\n",
    "feat_labels = X_train.columns\n",
    "\n",
    "forest = RandomForestClassifier(n_estimators=500,\n",
    "                                random_state=0,\n",
    "                                n_jobs=-1)\n",
    "\n",
    "forest.fit(X_train, y_train)\n",
    "importances = forest.feature_importances_\n",
    "\n",
    "indices = np.argsort(importances)[::-1]\n",
    "\n",
    "for f in range(X_train.shape[1]):\n",
    "    print(\"%2d) %-*s %f\" % (f + 1, 30, \n",
    "                            feat_labels[indices[f]], \n",
    "                            importances[indices[f]]))\n",
    "\n",
    "plt.title('Feature Importances')\n",
    "plt.bar(range(X_train.shape[1]), \n",
    "        importances[indices],\n",
    "        color='lightblue', \n",
    "        align='center')\n",
    "\n",
    "plt.xticks(range(X_train.shape[1]), \n",
    "           feat_labels[indices], rotation=90)\n",
    "plt.xlim([-1, X_train.shape[1]])\n",
    "plt.tight_layout()\n",
    "plt.show()"
   ]
  },
  {
   "cell_type": "code",
   "execution_count": 219,
   "metadata": {
    "collapsed": false,
    "deletable": true,
    "editable": true
   },
   "outputs": [
    {
     "name": "stdout",
     "output_type": "stream",
     "text": [
      "Fold: 1, Class dist.: [143 298], Acc: 0.820\n",
      "Fold: 2, Class dist.: [143 298], Acc: 0.840\n",
      "Fold: 3, Class dist.: [143 299], Acc: 0.816\n",
      "Fold: 4, Class dist.: [143 299], Acc: 0.796\n",
      "Fold: 5, Class dist.: [143 299], Acc: 0.837\n",
      "Fold: 6, Class dist.: [143 299], Acc: 0.796\n",
      "Fold: 7, Class dist.: [143 299], Acc: 0.694\n",
      "Fold: 8, Class dist.: [143 299], Acc: 0.796\n",
      "Fold: 9, Class dist.: [143 299], Acc: 0.816\n",
      "Fold: 10, Class dist.: [144 299], Acc: 0.833\n",
      "\n",
      "CV accuracy: 0.804 +/- 0.040\n"
     ]
    }
   ],
   "source": [
    "\n",
    "import numpy as np\n",
    "from sklearn.cross_validation import StratifiedKFold\n",
    "import xgboost as xgb\n",
    "xgb.XGBClassifier()\n",
    "\n",
    "kfold = StratifiedKFold(y=y_train, \n",
    "                        n_folds=10,\n",
    "                        random_state=1)\n",
    "\n",
    "y_train_bin = (y_train=='Y')*1\n",
    "scores = []\n",
    "for k, (train, test) in enumerate(kfold):\n",
    "    xgboost_clf = xgb.XGBClassifier(learning_rate=0.008, n_estimators=500, min_child_weight=5, colsample_bytree=0.7, subsample=0.8)\n",
    "    xgboost_clf.fit(X_train.values[train], y_train_bin.values[train])\n",
    "    score = xgboost_clf.score(X_train.values[test], y_train_bin.values[test])\n",
    "    scores.append(score)\n",
    "    print('Fold: %s, Class dist.: %s, Acc: %.3f' % (k+1, np.bincount(y_train_bin.values[train]), score))\n",
    "    \n",
    "print('\\nCV accuracy: %.3f +/- %.3f' % (np.mean(scores), np.std(scores)))"
   ]
  },
  {
   "cell_type": "code",
   "execution_count": 220,
   "metadata": {
    "collapsed": false,
    "deletable": true,
    "editable": true
   },
   "outputs": [
    {
     "data": {
      "image/png": "[encoded data removed]",
      "text/plain": [
       "<matplotlib.figure.Figure at 0x7fc3430f2e10>"
      ]
     },
     "metadata": {},
     "output_type": "display_data"
    }
   ],
   "source": [
    "from sklearn.learning_curve import learning_curve\n",
    "\n",
    "train_sizes, train_scores, test_scores =\\\n",
    "                learning_curve(estimator=knn, \n",
    "                X=X_train, \n",
    "                y=y_train, \n",
    "                train_sizes=np.linspace(0.1, 1.0, 10), \n",
    "                cv=10,\n",
    "                n_jobs=1)\n",
    "\n",
    "train_mean = np.mean(train_scores, axis=1)\n",
    "train_std = np.std(train_scores, axis=1)\n",
    "test_mean = np.mean(test_scores, axis=1)\n",
    "test_std = np.std(test_scores, axis=1)\n",
    "\n",
    "plt.plot(train_sizes, train_mean, \n",
    "         color='blue', marker='o', \n",
    "         markersize=5, label='training accuracy')\n",
    "\n",
    "plt.fill_between(train_sizes, \n",
    "                 train_mean + train_std,\n",
    "                 train_mean - train_std, \n",
    "                 alpha=0.15, color='blue')\n",
    "\n",
    "plt.plot(train_sizes, test_mean, \n",
    "         color='green', linestyle='--', \n",
    "         marker='s', markersize=5, \n",
    "         label='validation accuracy')\n",
    "\n",
    "plt.fill_between(train_sizes, \n",
    "                 test_mean + test_std,\n",
    "                 test_mean - test_std, \n",
    "                 alpha=0.15, color='green')\n",
    "\n",
    "plt.grid()\n",
    "plt.xlabel('Number of training samples')\n",
    "plt.ylabel('Accuracy')\n",
    "plt.legend(loc='lower right')\n",
    "plt.ylim([0.6, 1.0])\n",
    "plt.tight_layout()\n",
    "# plt.savefig('./figures/learning_curve.png', dpi=300)\n",
    "plt.show()"
   ]
  },
  {
   "cell_type": "code",
   "execution_count": 221,
   "metadata": {
    "collapsed": false,
    "deletable": true,
    "editable": true
   },
   "outputs": [
    {
     "data": {
      "image/png": "[encoded data removed]",
      "text/plain": [
       "<matplotlib.figure.Figure at 0x7fc340773790>"
      ]
     },
     "metadata": {},
     "output_type": "display_data"
    }
   ],
   "source": [
    "from sklearn.learning_curve import validation_curve\n",
    "\n",
    "param_range = [1, 3, 5, 7, 9, 11]\n",
    "train_scores, test_scores = validation_curve(\n",
    "                estimator=knn, \n",
    "                X=X_train, \n",
    "                y=y_train, \n",
    "                param_name='n_neighbors', \n",
    "                param_range=param_range,\n",
    "                cv=10)\n",
    "\n",
    "train_mean = np.mean(train_scores, axis=1)\n",
    "train_std = np.std(train_scores, axis=1)\n",
    "test_mean = np.mean(test_scores, axis=1)\n",
    "test_std = np.std(test_scores, axis=1)\n",
    "\n",
    "plt.plot(param_range, train_mean, \n",
    "         color='blue', marker='o', \n",
    "         markersize=5, label='training accuracy')\n",
    "\n",
    "plt.fill_between(param_range, train_mean + train_std,\n",
    "                 train_mean - train_std, alpha=0.15,\n",
    "                 color='blue')\n",
    "\n",
    "plt.plot(param_range, test_mean, \n",
    "         color='green', linestyle='--', \n",
    "         marker='s', markersize=5, \n",
    "         label='validation accuracy')\n",
    "\n",
    "plt.fill_between(param_range, \n",
    "                 test_mean + test_std,\n",
    "                 test_mean - test_std, \n",
    "                 alpha=0.15, color='green')\n",
    "\n",
    "plt.grid()\n",
    "plt.legend(loc='lower right')\n",
    "plt.xlabel('Parameter Num Neighbors')\n",
    "plt.ylabel('Accuracy')\n",
    "plt.ylim([0.6, 1.0])\n",
    "plt.tight_layout()\n",
    "# plt.savefig('./figures/validation_curve.png', dpi=300)\n",
    "plt.show()"
   ]
  },
  {
   "cell_type": "code",
   "execution_count": 67,
   "metadata": {
    "collapsed": false,
    "deletable": true,
    "editable": true
   },
   "outputs": [
    {
     "name": "stdout",
     "output_type": "stream",
     "text": [
      "0.67617107943\n",
      "{'clf__criterion': 'gini', 'clf__n_estimators': 700}\n"
     ]
    }
   ],
   "source": [
    "from sklearn.grid_search import GridSearchCV\n",
    "from sklearn.pipeline import Pipeline\n",
    "\n",
    "pipe_rf = Pipeline([('scl', StandardScaler()),\n",
    "            ('clf', RandomForestClassifier())])\n",
    "\n",
    "param_range = [500, 700, 1000]\n",
    "\n",
    "param_grid = [{'clf__n_estimators': param_range,\n",
    "               'clf__criterion': ['gini', 'entropy']}]\n",
    "\n",
    "gs = GridSearchCV(estimator=pipe_rf, \n",
    "                  param_grid=param_grid, \n",
    "                  scoring='accuracy', \n",
    "                  cv=10,\n",
    "                  n_jobs=1)\n",
    "gs = gs.fit(X_train[['Loan_Amount_Term']], y_train)\n",
    "print(gs.best_score_)\n",
    "print(gs.best_params_)"
   ]
  },
  {
   "cell_type": "code",
   "execution_count": 222,
   "metadata": {
    "collapsed": false,
    "deletable": true,
    "editable": true
   },
   "outputs": [
    {
     "name": "stdout",
     "output_type": "stream",
     "text": [
      "[[17 16]\n",
      " [15 75]]\n"
     ]
    }
   ],
   "source": [
    "from sklearn.metrics import confusion_matrix\n",
    "gbc.fit(X_train_std, y_train)\n",
    "y_pred = gbc.predict(X_test_std)\n",
    "confmat = confusion_matrix(y_true=y_test, y_pred=y_pred)\n",
    "print confmat"
   ]
  },
  {
   "cell_type": "code",
   "execution_count": 186,
   "metadata": {
    "collapsed": false,
    "deletable": true,
    "editable": true
   },
   "outputs": [
    {
     "data": {
      "image/png": "[encoded data removed]",
      "text/plain": [
       "<matplotlib.figure.Figure at 0x7fc343388350>"
      ]
     },
     "metadata": {},
     "output_type": "display_data"
    }
   ],
   "source": [
    "fig, ax = plt.subplots(figsize=(2.5, 2.5))\n",
    "ax.matshow(confmat, cmap=plt.cm.Blues, alpha=0.3)\n",
    "for i in range(confmat.shape[0]):\n",
    "    for j in range(confmat.shape[1]):\n",
    "        ax.text(x=j, y=i, s=confmat[i, j], va='center', ha='center')\n",
    "\n",
    "plt.xlabel('predicted label')\n",
    "plt.ylabel('true label')\n",
    "\n",
    "plt.tight_layout()\n",
    "# plt.savefig('./figures/confusion_matrix.png', dpi=300)\n",
    "plt.show()"
   ]
  },
  {
   "cell_type": "code",
   "execution_count": 223,
   "metadata": {
    "collapsed": false,
    "deletable": true,
    "editable": true
   },
   "outputs": [
    {
     "name": "stdout",
     "output_type": "stream",
     "text": [
      "Precision: 0.824\n",
      "Recall: 0.833\n",
      "F1: 0.829\n"
     ]
    }
   ],
   "source": [
    "y_pred_bin = (y_pred=='Y')*1\n",
    "y_test_bin = (y_test=='Y')*1\n",
    "from sklearn.metrics import precision_score, recall_score, f1_score\n",
    "\n",
    "print('Precision: %.3f' % precision_score(y_true=y_test_bin, y_pred=y_pred_bin))\n",
    "print('Recall: %.3f' % recall_score(y_true=y_test_bin, y_pred=y_pred_bin))\n",
    "print('F1: %.3f' % f1_score(y_true=y_test_bin, y_pred=y_pred_bin))"
   ]
  },
  {
   "cell_type": "code",
   "execution_count": 224,
   "metadata": {
    "collapsed": false,
    "deletable": true,
    "editable": true
   },
   "outputs": [
    {
     "data": {
      "image/png": "[encoded data removed]",
      "text/plain": [
       "<matplotlib.figure.Figure at 0x7fc3436c0510>"
      ]
     },
     "metadata": {},
     "output_type": "display_data"
    }
   ],
   "source": [
    "from sklearn.metrics import roc_curve, auc\n",
    "from scipy import interp\n",
    "\n",
    "X_train2 = X_train.values\n",
    "\n",
    "cv = StratifiedKFold(y_train, n_folds=3, random_state=1)\n",
    "\n",
    "fig = plt.figure(figsize=(7, 5))\n",
    "\n",
    "mean_tpr = 0.0\n",
    "mean_fpr = np.linspace(0, 1, 100)\n",
    "all_tpr = []\n",
    "\n",
    "for i, (train, test) in enumerate(cv):\n",
    "    probas = forest.fit(X_train2[train], \n",
    "                         y_train_bin[train]).predict_proba(X_train2[test])\n",
    "    \n",
    "    fpr, tpr, thresholds = roc_curve(y_train[test], \n",
    "                                     probas[:, 1], \n",
    "                                     pos_label='Y')\n",
    "    mean_tpr += interp(mean_fpr, fpr, tpr)\n",
    "    mean_tpr[0] = 0.0\n",
    "    roc_auc = auc(fpr, tpr)\n",
    "    plt.plot(fpr, \n",
    "             tpr, \n",
    "             lw=1, \n",
    "             label='ROC fold %d (area = %0.2f)' \n",
    "                    % (i+1, roc_auc))\n",
    "\n",
    "plt.plot([0, 1], \n",
    "         [0, 1], \n",
    "         linestyle='--', \n",
    "         color=(0.6, 0.6, 0.6), \n",
    "         label='random guessing')\n",
    "\n",
    "mean_tpr /= len(cv)\n",
    "mean_tpr[-1] = 1.0\n",
    "mean_auc = auc(mean_fpr, mean_tpr)\n",
    "plt.plot(mean_fpr, mean_tpr, 'k--',\n",
    "         label='mean ROC (area = %0.2f)' % mean_auc, lw=2)\n",
    "plt.plot([0, 0, 1], \n",
    "         [0, 1, 1], \n",
    "         lw=2, \n",
    "         linestyle=':', \n",
    "         color='black', \n",
    "         label='perfect performance')\n",
    "\n",
    "plt.xlim([-0.05, 1.05])\n",
    "plt.ylim([-0.05, 1.05])\n",
    "plt.xlabel('false positive rate')\n",
    "plt.ylabel('true positive rate')\n",
    "plt.title('Receiver Operator Characteristic')\n",
    "plt.legend(loc=\"lower right\")\n",
    "\n",
    "plt.tight_layout()\n",
    "# plt.savefig('./figures/roc.png', dpi=300)\n",
    "plt.show()"
   ]
  },
  {
   "cell_type": "code",
   "execution_count": 225,
   "metadata": {
    "collapsed": false,
    "deletable": true,
    "editable": true
   },
   "outputs": [],
   "source": [
    "#probs = xgboost_clf.predict_proba(X_test)\n",
    "#y_pred_custom = custom_threshold(probs[:, 1], 0.40)\n",
    "#error_df = X_test.copy()\n",
    "#error_df['true_label'] = y_test\n",
    "#error_df['predicted_label'] = y_pred_custom\n",
    "\n",
    "#error_df['predicted_label_negative_prob'] = probs[:, 0]\n",
    "#error_df['predicted_label_positive_prob'] = probs[:, 1]"
   ]
  },
  {
   "cell_type": "code",
   "execution_count": 226,
   "metadata": {
    "collapsed": true,
    "deletable": true,
    "editable": true
   },
   "outputs": [],
   "source": [
    "def custom_threshold(preds, threshold=0.5):\n",
    "    return ['Y' if pred > threshold else 'N' for pred in preds]"
   ]
  },
  {
   "cell_type": "code",
   "execution_count": 227,
   "metadata": {
    "collapsed": false
   },
   "outputs": [],
   "source": [
    "from sklearn.ensemble import ExtraTreesClassifier\n",
    "forest = ExtraTreesClassifier()\n",
    "forest.fit(load_train, train_target)\n",
    "predictions_forest_Extra = forest.predict(load_test)"
   ]
  },
  {
   "cell_type": "code",
   "execution_count": 228,
   "metadata": {
    "collapsed": false,
    "deletable": true,
    "editable": true
   },
   "outputs": [],
   "source": [
    "\n",
    "knn = KNeighborsClassifier(n_neighbors=3)\n",
    "knn.fit(load_train, train_target)\n",
    "predictions_knn = knn.predict(load_test)\n",
    "\n",
    "forest = RandomForestClassifier(n_estimators=700, n_jobs=-1, criterion='entropy')\n",
    "forest.fit(load_train, train_target)\n",
    "predictions_forest = forest.predict(load_test)\n",
    "\n",
    "forest = RandomForestClassifier(n_estimators=700, n_jobs=-1, criterion='gini')\n",
    "forest.fit(load_train, train_target)\n",
    "predictions_forest_gini = forest.predict(load_test)\n",
    "\n",
    "\n",
    "\n",
    "lr = LogisticRegression(C=1.)\n",
    "lr.fit(load_train, train_target)\n",
    "predictions_lr = lr.predict(load_test)\n",
    "\n",
    "\n",
    "\n",
    "xgboost_clf = xgb.XGBClassifier(learning_rate=0.006, n_estimators=900, min_child_weight=5, colsample_bytree=0.7, subsample=0.8)\n",
    "xgboost_clf.fit(load_train, train_target)\n",
    "predictions_xgb = xgboost_clf.predict(load_test)\n",
    "\n",
    "\n",
    "\n",
    "\n",
    "\n"
   ]
  },
  {
   "cell_type": "code",
   "execution_count": 229,
   "metadata": {
    "collapsed": true,
    "deletable": true,
    "editable": true
   },
   "outputs": [],
   "source": [
    "from collections import Counter\n",
    "import numpy as np\n",
    "\n",
    "def majority_voting(preds):\n",
    "    \"\"\"\n",
    "    Given an array of predictions from various classifiers\n",
    "    return single array with ensemble of predictions based on\n",
    "    simple majority voting\n",
    "    \n",
    "    Input: list of list [[y1, y2, y3, ..], [y1, y2, y3, ...], ..] \n",
    "    Output: final prediction [y1, y2, y3, ..]\n",
    "    \"\"\"\n",
    "    length = [len(pred) for pred in preds]\n",
    "    \n",
    "    if len(set(length)) != 1:\n",
    "        raise ValueError('Predictions must be of the same length')\n",
    "    \n",
    "    pred_matrix = np.matrix(preds)\n",
    "    ensemble_preds = []\n",
    "    \n",
    "    for i in range(len(preds[0])):\n",
    "        pred_column = np.array(pred_matrix[:, i]).ravel()\n",
    "        common_pred = Counter(pred_column)\n",
    "        most_common = common_pred.most_common()[0][0]\n",
    "        \n",
    "        ensemble_preds.append(most_common)\n",
    "    \n",
    "    return ensemble_preds"
   ]
  },
  {
   "cell_type": "code",
   "execution_count": 230,
   "metadata": {
    "collapsed": false,
    "deletable": true,
    "editable": true
   },
   "outputs": [],
   "source": [
    "ensemble_preds = majority_voting([predictions_knn, predictions_forest, predictions_forest_gini\n",
    "                                  ,predictions_lr, predictions_xgb])\n",
    "load_test['Loan_Status']=ensemble_preds\n",
    "load_test.index.values\n",
    "load_test.to_csv('Loan_Prediction_10.csv', index=False)\n",
    "#create_submissions(loan_test.index.values, ensemble_preds, 'ensemble_preds_xgb_lr.csv')"
   ]
  },
  {
   "cell_type": "code",
   "execution_count": null,
   "metadata": {
    "collapsed": true,
    "deletable": true,
    "editable": true
   },
   "outputs": [],
   "source": []
  },
  {
   "cell_type": "code",
   "execution_count": null,
   "metadata": {
    "collapsed": true
   },
   "outputs": [],
   "source": []
  }
 ],
 "metadata": {
  "anaconda-cloud": {},
  "kernelspec": {
   "display_name": "Python 2",
   "language": "python",
   "name": "python2"
  },
  "language_info": {
   "codemirror_mode": {
    "name": "ipython",
    "version": 2
   },
   "file_extension": ".py",
   "mimetype": "text/x-python",
   "name": "python",
   "nbconvert_exporter": "python",
   "pygments_lexer": "ipython2",
   "version": "2.7.6"
  }
 },
 "nbformat": 4,
 "nbformat_minor": 1
}
